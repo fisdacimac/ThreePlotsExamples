{
 "cells": [
  {
   "cell_type": "code",
   "execution_count": 1,
   "metadata": {},
   "outputs": [
    {
     "name": "stdout",
     "output_type": "stream",
     "text": [
      "Requirement already satisfied: kaleido in /home/mac/anaconda3/lib/python3.9/site-packages (0.2.1)\n",
      "Note: you may need to restart the kernel to use updated packages.\n"
     ]
    }
   ],
   "source": [
    "import pandas as pd\n",
    "import matplotlib.pyplot as plt\n",
    "import plotly.graph_objects as go\n",
    "%pip install -U kaleido\n",
    "import kaleido\n",
    "import plotly.io as pio"
   ]
  },
  {
   "cell_type": "code",
   "execution_count": 2,
   "metadata": {},
   "outputs": [
    {
     "data": {
      "text/html": [
       "<div>\n",
       "<style scoped>\n",
       "    .dataframe tbody tr th:only-of-type {\n",
       "        vertical-align: middle;\n",
       "    }\n",
       "\n",
       "    .dataframe tbody tr th {\n",
       "        vertical-align: top;\n",
       "    }\n",
       "\n",
       "    .dataframe thead th {\n",
       "        text-align: right;\n",
       "    }\n",
       "</style>\n",
       "<table border=\"1\" class=\"dataframe\">\n",
       "  <thead>\n",
       "    <tr style=\"text-align: right;\">\n",
       "      <th></th>\n",
       "      <th>h02</th>\n",
       "      <th>h01</th>\n",
       "      <th>data</th>\n",
       "      <th>h25</th>\n",
       "      <th>dia</th>\n",
       "      <th>total</th>\n",
       "      <th>h24</th>\n",
       "      <th>h23</th>\n",
       "      <th>h22</th>\n",
       "      <th>h21</th>\n",
       "      <th>...</th>\n",
       "      <th>h12</th>\n",
       "      <th>h11</th>\n",
       "      <th>h10</th>\n",
       "      <th>h09</th>\n",
       "      <th>h08</th>\n",
       "      <th>h07</th>\n",
       "      <th>h06</th>\n",
       "      <th>h05</th>\n",
       "      <th>h04</th>\n",
       "      <th>h03</th>\n",
       "    </tr>\n",
       "  </thead>\n",
       "  <tbody>\n",
       "    <tr>\n",
       "      <th>0</th>\n",
       "      <td>4136605.00</td>\n",
       "      <td>4332442.00</td>\n",
       "      <td>2024-03-01T00:00:00,000</td>\n",
       "      <td>0.0</td>\n",
       "      <td>Divendres</td>\n",
       "      <td>1.195949e+08</td>\n",
       "      <td>4707047.00</td>\n",
       "      <td>5137.31</td>\n",
       "      <td>5627.70</td>\n",
       "      <td>5860162.00</td>\n",
       "      <td>...</td>\n",
       "      <td>5253521.00</td>\n",
       "      <td>5380.93</td>\n",
       "      <td>5580968.00</td>\n",
       "      <td>5654635.00</td>\n",
       "      <td>5389581.00</td>\n",
       "      <td>4772.86</td>\n",
       "      <td>4144677.00</td>\n",
       "      <td>3948205.00</td>\n",
       "      <td>3934768.00</td>\n",
       "      <td>3992149.00</td>\n",
       "    </tr>\n",
       "    <tr>\n",
       "      <th>1</th>\n",
       "      <td>4173786.00</td>\n",
       "      <td>4412.50</td>\n",
       "      <td>2024-03-02T00:00:00,000</td>\n",
       "      <td>0.0</td>\n",
       "      <td>Dissabte</td>\n",
       "      <td>1.062083e+08</td>\n",
       "      <td>4272726.00</td>\n",
       "      <td>4634944.00</td>\n",
       "      <td>5012797.00</td>\n",
       "      <td>5138709.00</td>\n",
       "      <td>...</td>\n",
       "      <td>4467769.00</td>\n",
       "      <td>4457774.00</td>\n",
       "      <td>4471841.00</td>\n",
       "      <td>4326.25</td>\n",
       "      <td>4099292.00</td>\n",
       "      <td>3939977.00</td>\n",
       "      <td>3840367.00</td>\n",
       "      <td>3829482.00</td>\n",
       "      <td>3858854.00</td>\n",
       "      <td>3957398.00</td>\n",
       "    </tr>\n",
       "    <tr>\n",
       "      <th>2</th>\n",
       "      <td>3708419.00</td>\n",
       "      <td>3990885.00</td>\n",
       "      <td>2024-03-03T00:00:00,000</td>\n",
       "      <td>0.0</td>\n",
       "      <td>Diumenge</td>\n",
       "      <td>1.009662e+08</td>\n",
       "      <td>4437844.00</td>\n",
       "      <td>4843531.00</td>\n",
       "      <td>5160533.00</td>\n",
       "      <td>5269349.00</td>\n",
       "      <td>...</td>\n",
       "      <td>4491.75</td>\n",
       "      <td>4522403.00</td>\n",
       "      <td>4260302.00</td>\n",
       "      <td>3938307.00</td>\n",
       "      <td>3704159.00</td>\n",
       "      <td>3580857.00</td>\n",
       "      <td>3501854.00</td>\n",
       "      <td>3464585.00</td>\n",
       "      <td>3503331.00</td>\n",
       "      <td>3584728.00</td>\n",
       "    </tr>\n",
       "    <tr>\n",
       "      <th>3</th>\n",
       "      <td>3898817.00</td>\n",
       "      <td>4139021.00</td>\n",
       "      <td>2024-03-04T00:00:00,000</td>\n",
       "      <td>0.0</td>\n",
       "      <td>Dilluns</td>\n",
       "      <td>1.243217e+08</td>\n",
       "      <td>4770833.00</td>\n",
       "      <td>5297.42</td>\n",
       "      <td>5935143.00</td>\n",
       "      <td>6268114.00</td>\n",
       "      <td>...</td>\n",
       "      <td>5422198.00</td>\n",
       "      <td>5570669.00</td>\n",
       "      <td>5730937.00</td>\n",
       "      <td>5780.25</td>\n",
       "      <td>5484806.00</td>\n",
       "      <td>4751113.00</td>\n",
       "      <td>3971798.00</td>\n",
       "      <td>3806371.00</td>\n",
       "      <td>3760584.00</td>\n",
       "      <td>3795777.00</td>\n",
       "    </tr>\n",
       "    <tr>\n",
       "      <th>4</th>\n",
       "      <td>4195472.00</td>\n",
       "      <td>4431453.00</td>\n",
       "      <td>2024-03-05T00:00:00,000</td>\n",
       "      <td>0.0</td>\n",
       "      <td>Dimarts</td>\n",
       "      <td>1.227796e+08</td>\n",
       "      <td>4714496.00</td>\n",
       "      <td>5231051.00</td>\n",
       "      <td>5820316.00</td>\n",
       "      <td>6107888.00</td>\n",
       "      <td>...</td>\n",
       "      <td>5346804.00</td>\n",
       "      <td>5483786.00</td>\n",
       "      <td>5660702.00</td>\n",
       "      <td>5788067.00</td>\n",
       "      <td>5555389.00</td>\n",
       "      <td>4909669.00</td>\n",
       "      <td>4247023.00</td>\n",
       "      <td>4023027.00</td>\n",
       "      <td>4012624.00</td>\n",
       "      <td>4049129.00</td>\n",
       "    </tr>\n",
       "    <tr>\n",
       "      <th>...</th>\n",
       "      <td>...</td>\n",
       "      <td>...</td>\n",
       "      <td>...</td>\n",
       "      <td>...</td>\n",
       "      <td>...</td>\n",
       "      <td>...</td>\n",
       "      <td>...</td>\n",
       "      <td>...</td>\n",
       "      <td>...</td>\n",
       "      <td>...</td>\n",
       "      <td>...</td>\n",
       "      <td>...</td>\n",
       "      <td>...</td>\n",
       "      <td>...</td>\n",
       "      <td>...</td>\n",
       "      <td>...</td>\n",
       "      <td>...</td>\n",
       "      <td>...</td>\n",
       "      <td>...</td>\n",
       "      <td>...</td>\n",
       "      <td>...</td>\n",
       "    </tr>\n",
       "    <tr>\n",
       "      <th>7025</th>\n",
       "      <td>4658.84</td>\n",
       "      <td>5016.90</td>\n",
       "      <td>2005-03-19T00:00:00,000</td>\n",
       "      <td>0.0</td>\n",
       "      <td>Dissabte</td>\n",
       "      <td>1.126018e+05</td>\n",
       "      <td>4652.06</td>\n",
       "      <td>4968.36</td>\n",
       "      <td>5328.18</td>\n",
       "      <td>5462.71</td>\n",
       "      <td>...</td>\n",
       "      <td>5076.55</td>\n",
       "      <td>5134.57</td>\n",
       "      <td>4884.58</td>\n",
       "      <td>4491.33</td>\n",
       "      <td>4111.64</td>\n",
       "      <td>4069.03</td>\n",
       "      <td>4071.94</td>\n",
       "      <td>4125.73</td>\n",
       "      <td>4210.15</td>\n",
       "      <td>4376.96</td>\n",
       "    </tr>\n",
       "    <tr>\n",
       "      <th>7026</th>\n",
       "      <td>4003.02</td>\n",
       "      <td>4322.02</td>\n",
       "      <td>2005-03-20T00:00:00,000</td>\n",
       "      <td>0.0</td>\n",
       "      <td>Diumenge</td>\n",
       "      <td>9.805403e+04</td>\n",
       "      <td>4522.72</td>\n",
       "      <td>4853.29</td>\n",
       "      <td>5085.71</td>\n",
       "      <td>5068.90</td>\n",
       "      <td>...</td>\n",
       "      <td>4179.48</td>\n",
       "      <td>4144.39</td>\n",
       "      <td>3960.62</td>\n",
       "      <td>3652.00</td>\n",
       "      <td>3381.62</td>\n",
       "      <td>3477.21</td>\n",
       "      <td>3479.18</td>\n",
       "      <td>3470.75</td>\n",
       "      <td>3581.14</td>\n",
       "      <td>3716.17</td>\n",
       "    </tr>\n",
       "    <tr>\n",
       "      <th>7027</th>\n",
       "      <td>3841.31</td>\n",
       "      <td>4184.72</td>\n",
       "      <td>2005-03-21T00:00:00,000</td>\n",
       "      <td>0.0</td>\n",
       "      <td>Dilluns</td>\n",
       "      <td>1.301437e+05</td>\n",
       "      <td>5118.01</td>\n",
       "      <td>5546.58</td>\n",
       "      <td>6148.95</td>\n",
       "      <td>6463.03</td>\n",
       "      <td>...</td>\n",
       "      <td>6448.81</td>\n",
       "      <td>6360.62</td>\n",
       "      <td>6040.83</td>\n",
       "      <td>5695.03</td>\n",
       "      <td>5040.02</td>\n",
       "      <td>4463.19</td>\n",
       "      <td>3850.87</td>\n",
       "      <td>3635.54</td>\n",
       "      <td>3628.07</td>\n",
       "      <td>3700.51</td>\n",
       "    </tr>\n",
       "    <tr>\n",
       "      <th>7028</th>\n",
       "      <td>4387.09</td>\n",
       "      <td>4701.40</td>\n",
       "      <td>2005-03-22T00:00:00,000</td>\n",
       "      <td>0.0</td>\n",
       "      <td>Dimarts</td>\n",
       "      <td>1.302351e+05</td>\n",
       "      <td>5006.11</td>\n",
       "      <td>5441.52</td>\n",
       "      <td>6029.40</td>\n",
       "      <td>6265.57</td>\n",
       "      <td>...</td>\n",
       "      <td>6333.57</td>\n",
       "      <td>6319.74</td>\n",
       "      <td>6022.14</td>\n",
       "      <td>5719.91</td>\n",
       "      <td>5153.98</td>\n",
       "      <td>4682.35</td>\n",
       "      <td>4193.74</td>\n",
       "      <td>4079.51</td>\n",
       "      <td>4077.75</td>\n",
       "      <td>4182.23</td>\n",
       "    </tr>\n",
       "    <tr>\n",
       "      <th>7029</th>\n",
       "      <td>4310.43</td>\n",
       "      <td>4616.50</td>\n",
       "      <td>2005-03-23T00:00:00,000</td>\n",
       "      <td>0.0</td>\n",
       "      <td>Dimecres</td>\n",
       "      <td>1.290557e+05</td>\n",
       "      <td>5041.21</td>\n",
       "      <td>5478.69</td>\n",
       "      <td>6057.02</td>\n",
       "      <td>6335.46</td>\n",
       "      <td>...</td>\n",
       "      <td>6239.38</td>\n",
       "      <td>6169.79</td>\n",
       "      <td>5867.05</td>\n",
       "      <td>5580.15</td>\n",
       "      <td>5038.22</td>\n",
       "      <td>4597.65</td>\n",
       "      <td>4132.13</td>\n",
       "      <td>4022.68</td>\n",
       "      <td>4036.66</td>\n",
       "      <td>4130.91</td>\n",
       "    </tr>\n",
       "  </tbody>\n",
       "</table>\n",
       "<p>7030 rows × 28 columns</p>\n",
       "</div>"
      ],
      "text/plain": [
       "             h02         h01                     data  h25        dia  \\\n",
       "0     4136605.00  4332442.00  2024-03-01T00:00:00,000  0.0  Divendres   \n",
       "1     4173786.00     4412.50  2024-03-02T00:00:00,000  0.0   Dissabte   \n",
       "2     3708419.00  3990885.00  2024-03-03T00:00:00,000  0.0   Diumenge   \n",
       "3     3898817.00  4139021.00  2024-03-04T00:00:00,000  0.0    Dilluns   \n",
       "4     4195472.00  4431453.00  2024-03-05T00:00:00,000  0.0    Dimarts   \n",
       "...          ...         ...                      ...  ...        ...   \n",
       "7025     4658.84     5016.90  2005-03-19T00:00:00,000  0.0   Dissabte   \n",
       "7026     4003.02     4322.02  2005-03-20T00:00:00,000  0.0   Diumenge   \n",
       "7027     3841.31     4184.72  2005-03-21T00:00:00,000  0.0    Dilluns   \n",
       "7028     4387.09     4701.40  2005-03-22T00:00:00,000  0.0    Dimarts   \n",
       "7029     4310.43     4616.50  2005-03-23T00:00:00,000  0.0   Dimecres   \n",
       "\n",
       "             total         h24         h23         h22         h21  ...  \\\n",
       "0     1.195949e+08  4707047.00     5137.31     5627.70  5860162.00  ...   \n",
       "1     1.062083e+08  4272726.00  4634944.00  5012797.00  5138709.00  ...   \n",
       "2     1.009662e+08  4437844.00  4843531.00  5160533.00  5269349.00  ...   \n",
       "3     1.243217e+08  4770833.00     5297.42  5935143.00  6268114.00  ...   \n",
       "4     1.227796e+08  4714496.00  5231051.00  5820316.00  6107888.00  ...   \n",
       "...            ...         ...         ...         ...         ...  ...   \n",
       "7025  1.126018e+05     4652.06     4968.36     5328.18     5462.71  ...   \n",
       "7026  9.805403e+04     4522.72     4853.29     5085.71     5068.90  ...   \n",
       "7027  1.301437e+05     5118.01     5546.58     6148.95     6463.03  ...   \n",
       "7028  1.302351e+05     5006.11     5441.52     6029.40     6265.57  ...   \n",
       "7029  1.290557e+05     5041.21     5478.69     6057.02     6335.46  ...   \n",
       "\n",
       "             h12         h11         h10         h09         h08         h07  \\\n",
       "0     5253521.00     5380.93  5580968.00  5654635.00  5389581.00     4772.86   \n",
       "1     4467769.00  4457774.00  4471841.00     4326.25  4099292.00  3939977.00   \n",
       "2        4491.75  4522403.00  4260302.00  3938307.00  3704159.00  3580857.00   \n",
       "3     5422198.00  5570669.00  5730937.00     5780.25  5484806.00  4751113.00   \n",
       "4     5346804.00  5483786.00  5660702.00  5788067.00  5555389.00  4909669.00   \n",
       "...          ...         ...         ...         ...         ...         ...   \n",
       "7025     5076.55     5134.57     4884.58     4491.33     4111.64     4069.03   \n",
       "7026     4179.48     4144.39     3960.62     3652.00     3381.62     3477.21   \n",
       "7027     6448.81     6360.62     6040.83     5695.03     5040.02     4463.19   \n",
       "7028     6333.57     6319.74     6022.14     5719.91     5153.98     4682.35   \n",
       "7029     6239.38     6169.79     5867.05     5580.15     5038.22     4597.65   \n",
       "\n",
       "             h06         h05         h04         h03  \n",
       "0     4144677.00  3948205.00  3934768.00  3992149.00  \n",
       "1     3840367.00  3829482.00  3858854.00  3957398.00  \n",
       "2     3501854.00  3464585.00  3503331.00  3584728.00  \n",
       "3     3971798.00  3806371.00  3760584.00  3795777.00  \n",
       "4     4247023.00  4023027.00  4012624.00  4049129.00  \n",
       "...          ...         ...         ...         ...  \n",
       "7025     4071.94     4125.73     4210.15     4376.96  \n",
       "7026     3479.18     3470.75     3581.14     3716.17  \n",
       "7027     3850.87     3635.54     3628.07     3700.51  \n",
       "7028     4193.74     4079.51     4077.75     4182.23  \n",
       "7029     4132.13     4022.68     4036.66     4130.91  \n",
       "\n",
       "[7030 rows x 28 columns]"
      ]
     },
     "execution_count": 2,
     "metadata": {},
     "output_type": "execute_result"
    }
   ],
   "source": [
    "df = pd.read_csv('data/waterfallDiagram.csv')\n",
    "df"
   ]
  },
  {
   "cell_type": "code",
   "execution_count": 3,
   "metadata": {},
   "outputs": [
    {
     "name": "stdout",
     "output_type": "stream",
     "text": [
      "         h01        h02        h03        h04        h05        h06  \\\n",
      "4  4431453.0  4195472.0  4049129.0  4012624.0  4023027.0  4247023.0   \n",
      "\n",
      "         h07        h08        h09        h10  ...        h16        h17  \\\n",
      "4  4909669.0  5555389.0  5788067.0  5660702.0  ...  5189342.0  5226729.0   \n",
      "\n",
      "         h18        h19        h20        h21        h22        h23  \\\n",
      "4  5397937.0  5612611.0  5993146.0  6107888.0  5820316.0  5231051.0   \n",
      "\n",
      "         h24        total  \n",
      "4  4714496.0  122779647.0  \n",
      "\n",
      "[1 rows x 25 columns]\n"
     ]
    }
   ],
   "source": [
    "labels = ['h01', 'h02', 'h03', 'h04', 'h05', 'h06', 'h07', 'h08', 'h09',\n",
    "                     'h10', 'h11', 'h12', 'h13', 'h14', 'h15', 'h16', 'h17', 'h18',\n",
    "                     'h19', 'h20', 'h21', 'h22', 'h23', 'h24', 'total']\n",
    "df_final = df[df.data.isin(['2024-03-05T00:00:00,000'])]\n",
    "df_clean = df_final[labels]\n",
    "print(df_clean)"
   ]
  },
  {
   "cell_type": "code",
   "execution_count": 4,
   "metadata": {},
   "outputs": [
    {
     "name": "stdout",
     "output_type": "stream",
     "text": [
      "[4431453.0, 4195472.0, 4049129.0, 4012624.0, 4023027.0, 4247023.0, 4909669.0, 5555389.0, 5788067.0, 5660702.0, 5483786.0, 5346804.0, 5319.45, 5284831.0, 5178704.0, 5189342.0, 5226729.0, 5397937.0, 5612611.0, 5993146.0, 6107888.0, 5820316.0, 5231051.0, 4714496.0, 122779647.0]\n"
     ]
    }
   ],
   "source": [
    "new_y = []\n",
    "columns = df_clean.columns\n",
    "for i in range(0, len(columns)):\n",
    "    new_y.append(float(df_clean[columns[i]]))\n",
    "print(new_y)"
   ]
  },
  {
   "cell_type": "code",
   "execution_count": 5,
   "metadata": {},
   "outputs": [
    {
     "data": {
      "application/vnd.plotly.v1+json": {
       "config": {
        "plotlyServerURL": "https://plot.ly"
       },
       "data": [
        {
         "connector": {
          "line": {
           "color": "rgb(63, 63, 63)"
          }
         },
         "measure": [
          "relative",
          "relative",
          "relative",
          "relative",
          "relative",
          "relative",
          "relative",
          "relative",
          "relative",
          "relative",
          "relative",
          "relative",
          "relative",
          "relative",
          "relative",
          "relative",
          "relative",
          "relative",
          "relative",
          "relative",
          "relative",
          "relative",
          "relative",
          "relative",
          "total"
         ],
         "textposition": "outside",
         "type": "waterfall",
         "x": [
          "h01",
          "h02",
          "h03",
          "h04",
          "h05",
          "h06",
          "h07",
          "h08",
          "h09",
          "h10",
          "h11",
          "h12",
          "h13",
          "h14",
          "h15",
          "h16",
          "h17",
          "h18",
          "h19",
          "h20",
          "h21",
          "h22",
          "h23",
          "h24",
          "total"
         ],
         "y": [
          4431453,
          4195472,
          4049129,
          4012624,
          4023027,
          4247023,
          4909669,
          5555389,
          5788067,
          5660702,
          5483786,
          5346804,
          5319.45,
          5284831,
          5178704,
          5189342,
          5226729,
          5397937,
          5612611,
          5993146,
          6107888,
          5820316,
          5231051,
          4714496,
          122779647
         ]
        }
       ],
       "layout": {
        "showlegend": false,
        "template": {
         "data": {
          "bar": [
           {
            "error_x": {
             "color": "#2a3f5f"
            },
            "error_y": {
             "color": "#2a3f5f"
            },
            "marker": {
             "line": {
              "color": "#E5ECF6",
              "width": 0.5
             },
             "pattern": {
              "fillmode": "overlay",
              "size": 10,
              "solidity": 0.2
             }
            },
            "type": "bar"
           }
          ],
          "barpolar": [
           {
            "marker": {
             "line": {
              "color": "#E5ECF6",
              "width": 0.5
             },
             "pattern": {
              "fillmode": "overlay",
              "size": 10,
              "solidity": 0.2
             }
            },
            "type": "barpolar"
           }
          ],
          "carpet": [
           {
            "aaxis": {
             "endlinecolor": "#2a3f5f",
             "gridcolor": "white",
             "linecolor": "white",
             "minorgridcolor": "white",
             "startlinecolor": "#2a3f5f"
            },
            "baxis": {
             "endlinecolor": "#2a3f5f",
             "gridcolor": "white",
             "linecolor": "white",
             "minorgridcolor": "white",
             "startlinecolor": "#2a3f5f"
            },
            "type": "carpet"
           }
          ],
          "choropleth": [
           {
            "colorbar": {
             "outlinewidth": 0,
             "ticks": ""
            },
            "type": "choropleth"
           }
          ],
          "contour": [
           {
            "colorbar": {
             "outlinewidth": 0,
             "ticks": ""
            },
            "colorscale": [
             [
              0,
              "#0d0887"
             ],
             [
              0.1111111111111111,
              "#46039f"
             ],
             [
              0.2222222222222222,
              "#7201a8"
             ],
             [
              0.3333333333333333,
              "#9c179e"
             ],
             [
              0.4444444444444444,
              "#bd3786"
             ],
             [
              0.5555555555555556,
              "#d8576b"
             ],
             [
              0.6666666666666666,
              "#ed7953"
             ],
             [
              0.7777777777777778,
              "#fb9f3a"
             ],
             [
              0.8888888888888888,
              "#fdca26"
             ],
             [
              1,
              "#f0f921"
             ]
            ],
            "type": "contour"
           }
          ],
          "contourcarpet": [
           {
            "colorbar": {
             "outlinewidth": 0,
             "ticks": ""
            },
            "type": "contourcarpet"
           }
          ],
          "heatmap": [
           {
            "colorbar": {
             "outlinewidth": 0,
             "ticks": ""
            },
            "colorscale": [
             [
              0,
              "#0d0887"
             ],
             [
              0.1111111111111111,
              "#46039f"
             ],
             [
              0.2222222222222222,
              "#7201a8"
             ],
             [
              0.3333333333333333,
              "#9c179e"
             ],
             [
              0.4444444444444444,
              "#bd3786"
             ],
             [
              0.5555555555555556,
              "#d8576b"
             ],
             [
              0.6666666666666666,
              "#ed7953"
             ],
             [
              0.7777777777777778,
              "#fb9f3a"
             ],
             [
              0.8888888888888888,
              "#fdca26"
             ],
             [
              1,
              "#f0f921"
             ]
            ],
            "type": "heatmap"
           }
          ],
          "heatmapgl": [
           {
            "colorbar": {
             "outlinewidth": 0,
             "ticks": ""
            },
            "colorscale": [
             [
              0,
              "#0d0887"
             ],
             [
              0.1111111111111111,
              "#46039f"
             ],
             [
              0.2222222222222222,
              "#7201a8"
             ],
             [
              0.3333333333333333,
              "#9c179e"
             ],
             [
              0.4444444444444444,
              "#bd3786"
             ],
             [
              0.5555555555555556,
              "#d8576b"
             ],
             [
              0.6666666666666666,
              "#ed7953"
             ],
             [
              0.7777777777777778,
              "#fb9f3a"
             ],
             [
              0.8888888888888888,
              "#fdca26"
             ],
             [
              1,
              "#f0f921"
             ]
            ],
            "type": "heatmapgl"
           }
          ],
          "histogram": [
           {
            "marker": {
             "pattern": {
              "fillmode": "overlay",
              "size": 10,
              "solidity": 0.2
             }
            },
            "type": "histogram"
           }
          ],
          "histogram2d": [
           {
            "colorbar": {
             "outlinewidth": 0,
             "ticks": ""
            },
            "colorscale": [
             [
              0,
              "#0d0887"
             ],
             [
              0.1111111111111111,
              "#46039f"
             ],
             [
              0.2222222222222222,
              "#7201a8"
             ],
             [
              0.3333333333333333,
              "#9c179e"
             ],
             [
              0.4444444444444444,
              "#bd3786"
             ],
             [
              0.5555555555555556,
              "#d8576b"
             ],
             [
              0.6666666666666666,
              "#ed7953"
             ],
             [
              0.7777777777777778,
              "#fb9f3a"
             ],
             [
              0.8888888888888888,
              "#fdca26"
             ],
             [
              1,
              "#f0f921"
             ]
            ],
            "type": "histogram2d"
           }
          ],
          "histogram2dcontour": [
           {
            "colorbar": {
             "outlinewidth": 0,
             "ticks": ""
            },
            "colorscale": [
             [
              0,
              "#0d0887"
             ],
             [
              0.1111111111111111,
              "#46039f"
             ],
             [
              0.2222222222222222,
              "#7201a8"
             ],
             [
              0.3333333333333333,
              "#9c179e"
             ],
             [
              0.4444444444444444,
              "#bd3786"
             ],
             [
              0.5555555555555556,
              "#d8576b"
             ],
             [
              0.6666666666666666,
              "#ed7953"
             ],
             [
              0.7777777777777778,
              "#fb9f3a"
             ],
             [
              0.8888888888888888,
              "#fdca26"
             ],
             [
              1,
              "#f0f921"
             ]
            ],
            "type": "histogram2dcontour"
           }
          ],
          "mesh3d": [
           {
            "colorbar": {
             "outlinewidth": 0,
             "ticks": ""
            },
            "type": "mesh3d"
           }
          ],
          "parcoords": [
           {
            "line": {
             "colorbar": {
              "outlinewidth": 0,
              "ticks": ""
             }
            },
            "type": "parcoords"
           }
          ],
          "pie": [
           {
            "automargin": true,
            "type": "pie"
           }
          ],
          "scatter": [
           {
            "marker": {
             "colorbar": {
              "outlinewidth": 0,
              "ticks": ""
             }
            },
            "type": "scatter"
           }
          ],
          "scatter3d": [
           {
            "line": {
             "colorbar": {
              "outlinewidth": 0,
              "ticks": ""
             }
            },
            "marker": {
             "colorbar": {
              "outlinewidth": 0,
              "ticks": ""
             }
            },
            "type": "scatter3d"
           }
          ],
          "scattercarpet": [
           {
            "marker": {
             "colorbar": {
              "outlinewidth": 0,
              "ticks": ""
             }
            },
            "type": "scattercarpet"
           }
          ],
          "scattergeo": [
           {
            "marker": {
             "colorbar": {
              "outlinewidth": 0,
              "ticks": ""
             }
            },
            "type": "scattergeo"
           }
          ],
          "scattergl": [
           {
            "marker": {
             "colorbar": {
              "outlinewidth": 0,
              "ticks": ""
             }
            },
            "type": "scattergl"
           }
          ],
          "scattermapbox": [
           {
            "marker": {
             "colorbar": {
              "outlinewidth": 0,
              "ticks": ""
             }
            },
            "type": "scattermapbox"
           }
          ],
          "scatterpolar": [
           {
            "marker": {
             "colorbar": {
              "outlinewidth": 0,
              "ticks": ""
             }
            },
            "type": "scatterpolar"
           }
          ],
          "scatterpolargl": [
           {
            "marker": {
             "colorbar": {
              "outlinewidth": 0,
              "ticks": ""
             }
            },
            "type": "scatterpolargl"
           }
          ],
          "scatterternary": [
           {
            "marker": {
             "colorbar": {
              "outlinewidth": 0,
              "ticks": ""
             }
            },
            "type": "scatterternary"
           }
          ],
          "surface": [
           {
            "colorbar": {
             "outlinewidth": 0,
             "ticks": ""
            },
            "colorscale": [
             [
              0,
              "#0d0887"
             ],
             [
              0.1111111111111111,
              "#46039f"
             ],
             [
              0.2222222222222222,
              "#7201a8"
             ],
             [
              0.3333333333333333,
              "#9c179e"
             ],
             [
              0.4444444444444444,
              "#bd3786"
             ],
             [
              0.5555555555555556,
              "#d8576b"
             ],
             [
              0.6666666666666666,
              "#ed7953"
             ],
             [
              0.7777777777777778,
              "#fb9f3a"
             ],
             [
              0.8888888888888888,
              "#fdca26"
             ],
             [
              1,
              "#f0f921"
             ]
            ],
            "type": "surface"
           }
          ],
          "table": [
           {
            "cells": {
             "fill": {
              "color": "#EBF0F8"
             },
             "line": {
              "color": "white"
             }
            },
            "header": {
             "fill": {
              "color": "#C8D4E3"
             },
             "line": {
              "color": "white"
             }
            },
            "type": "table"
           }
          ]
         },
         "layout": {
          "annotationdefaults": {
           "arrowcolor": "#2a3f5f",
           "arrowhead": 0,
           "arrowwidth": 1
          },
          "autotypenumbers": "strict",
          "coloraxis": {
           "colorbar": {
            "outlinewidth": 0,
            "ticks": ""
           }
          },
          "colorscale": {
           "diverging": [
            [
             0,
             "#8e0152"
            ],
            [
             0.1,
             "#c51b7d"
            ],
            [
             0.2,
             "#de77ae"
            ],
            [
             0.3,
             "#f1b6da"
            ],
            [
             0.4,
             "#fde0ef"
            ],
            [
             0.5,
             "#f7f7f7"
            ],
            [
             0.6,
             "#e6f5d0"
            ],
            [
             0.7,
             "#b8e186"
            ],
            [
             0.8,
             "#7fbc41"
            ],
            [
             0.9,
             "#4d9221"
            ],
            [
             1,
             "#276419"
            ]
           ],
           "sequential": [
            [
             0,
             "#0d0887"
            ],
            [
             0.1111111111111111,
             "#46039f"
            ],
            [
             0.2222222222222222,
             "#7201a8"
            ],
            [
             0.3333333333333333,
             "#9c179e"
            ],
            [
             0.4444444444444444,
             "#bd3786"
            ],
            [
             0.5555555555555556,
             "#d8576b"
            ],
            [
             0.6666666666666666,
             "#ed7953"
            ],
            [
             0.7777777777777778,
             "#fb9f3a"
            ],
            [
             0.8888888888888888,
             "#fdca26"
            ],
            [
             1,
             "#f0f921"
            ]
           ],
           "sequentialminus": [
            [
             0,
             "#0d0887"
            ],
            [
             0.1111111111111111,
             "#46039f"
            ],
            [
             0.2222222222222222,
             "#7201a8"
            ],
            [
             0.3333333333333333,
             "#9c179e"
            ],
            [
             0.4444444444444444,
             "#bd3786"
            ],
            [
             0.5555555555555556,
             "#d8576b"
            ],
            [
             0.6666666666666666,
             "#ed7953"
            ],
            [
             0.7777777777777778,
             "#fb9f3a"
            ],
            [
             0.8888888888888888,
             "#fdca26"
            ],
            [
             1,
             "#f0f921"
            ]
           ]
          },
          "colorway": [
           "#636efa",
           "#EF553B",
           "#00cc96",
           "#ab63fa",
           "#FFA15A",
           "#19d3f3",
           "#FF6692",
           "#B6E880",
           "#FF97FF",
           "#FECB52"
          ],
          "font": {
           "color": "#2a3f5f"
          },
          "geo": {
           "bgcolor": "white",
           "lakecolor": "white",
           "landcolor": "#E5ECF6",
           "showlakes": true,
           "showland": true,
           "subunitcolor": "white"
          },
          "hoverlabel": {
           "align": "left"
          },
          "hovermode": "closest",
          "mapbox": {
           "style": "light"
          },
          "paper_bgcolor": "white",
          "plot_bgcolor": "#E5ECF6",
          "polar": {
           "angularaxis": {
            "gridcolor": "white",
            "linecolor": "white",
            "ticks": ""
           },
           "bgcolor": "#E5ECF6",
           "radialaxis": {
            "gridcolor": "white",
            "linecolor": "white",
            "ticks": ""
           }
          },
          "scene": {
           "xaxis": {
            "backgroundcolor": "#E5ECF6",
            "gridcolor": "white",
            "gridwidth": 2,
            "linecolor": "white",
            "showbackground": true,
            "ticks": "",
            "zerolinecolor": "white"
           },
           "yaxis": {
            "backgroundcolor": "#E5ECF6",
            "gridcolor": "white",
            "gridwidth": 2,
            "linecolor": "white",
            "showbackground": true,
            "ticks": "",
            "zerolinecolor": "white"
           },
           "zaxis": {
            "backgroundcolor": "#E5ECF6",
            "gridcolor": "white",
            "gridwidth": 2,
            "linecolor": "white",
            "showbackground": true,
            "ticks": "",
            "zerolinecolor": "white"
           }
          },
          "shapedefaults": {
           "line": {
            "color": "#2a3f5f"
           }
          },
          "ternary": {
           "aaxis": {
            "gridcolor": "white",
            "linecolor": "white",
            "ticks": ""
           },
           "baxis": {
            "gridcolor": "white",
            "linecolor": "white",
            "ticks": ""
           },
           "bgcolor": "#E5ECF6",
           "caxis": {
            "gridcolor": "white",
            "linecolor": "white",
            "ticks": ""
           }
          },
          "title": {
           "x": 0.05
          },
          "xaxis": {
           "automargin": true,
           "gridcolor": "white",
           "linecolor": "white",
           "ticks": "",
           "title": {
            "standoff": 15
           },
           "zerolinecolor": "white",
           "zerolinewidth": 2
          },
          "yaxis": {
           "automargin": true,
           "gridcolor": "white",
           "linecolor": "white",
           "ticks": "",
           "title": {
            "standoff": 15
           },
           "zerolinecolor": "white",
           "zerolinewidth": 2
          }
         }
        },
        "title": {
         "text": "Demanda energia electrica horaria a Catalunya per MWh el 05-03-2024"
        }
       }
      }
     },
     "metadata": {},
     "output_type": "display_data"
    }
   ],
   "source": [
    "fig = go.Figure(go.Waterfall(\n",
    "    #name = \"20\", orientation = \"v\",\n",
    "    measure = [\"relative\", \"relative\", \"relative\", \"relative\", \"relative\",\n",
    "               \"relative\", \"relative\", \"relative\", \"relative\", \"relative\",\n",
    "               \"relative\", \"relative\", \"relative\", \"relative\", \"relative\",\n",
    "               \"relative\", \"relative\", \"relative\",\"relative\", \"relative\", \"relative\",\n",
    "               \"relative\", \"relative\", \"relative\",\"total\"],\n",
    "    x = list(df_clean.columns),\n",
    "    textposition = \"outside\",\n",
    "    #text = [\"+60\", \"+80\", \"\", \"-40\", \"-20\", \"Total\"],\n",
    "    y = new_y,\n",
    "    connector = {\"line\":{\"color\":\"rgb(63, 63, 63)\"}},\n",
    "))\n",
    "\n",
    "fig.update_layout(\n",
    "        title = \"Demanda energia electrica horaria a Catalunya per MWh el 05-03-2024\",\n",
    "        showlegend = False\n",
    ")\n",
    "\n",
    "fig.show()\n",
    "pio.write_html(fig, \"plot.html\", auto_open=True)\n"
   ]
  }
 ],
 "metadata": {
  "kernelspec": {
   "display_name": "base",
   "language": "python",
   "name": "python3"
  },
  "language_info": {
   "codemirror_mode": {
    "name": "ipython",
    "version": 3
   },
   "file_extension": ".py",
   "mimetype": "text/x-python",
   "name": "python",
   "nbconvert_exporter": "python",
   "pygments_lexer": "ipython3",
   "version": "3.9.12"
  }
 },
 "nbformat": 4,
 "nbformat_minor": 2
}
