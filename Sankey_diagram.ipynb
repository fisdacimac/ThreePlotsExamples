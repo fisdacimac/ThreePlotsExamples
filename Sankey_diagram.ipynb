{
 "cells": [
  {
   "cell_type": "code",
   "execution_count": 1,
   "metadata": {},
   "outputs": [
    {
     "name": "stdout",
     "output_type": "stream",
     "text": [
      "Requirement already satisfied: kaleido in /home/mac/anaconda3/lib/python3.9/site-packages (0.2.1)\n",
      "Note: you may need to restart the kernel to use updated packages.\n"
     ]
    }
   ],
   "source": [
    "import pandas as pd\n",
    "import matplotlib.pyplot as plt\n",
    "import plotly.graph_objects as go\n",
    "%pip install -U kaleido\n",
    "import kaleido"
   ]
  },
  {
   "cell_type": "code",
   "execution_count": 2,
   "metadata": {},
   "outputs": [
    {
     "data": {
      "text/html": [
       "<div>\n",
       "<style scoped>\n",
       "    .dataframe tbody tr th:only-of-type {\n",
       "        vertical-align: middle;\n",
       "    }\n",
       "\n",
       "    .dataframe tbody tr th {\n",
       "        vertical-align: top;\n",
       "    }\n",
       "\n",
       "    .dataframe thead th {\n",
       "        text-align: right;\n",
       "    }\n",
       "</style>\n",
       "<table border=\"1\" class=\"dataframe\">\n",
       "  <thead>\n",
       "    <tr style=\"text-align: right;\">\n",
       "      <th></th>\n",
       "      <th>Any</th>\n",
       "      <th>Codi país</th>\n",
       "      <th>Codi país ISO</th>\n",
       "      <th>País</th>\n",
       "      <th>Import</th>\n",
       "      <th>Estat</th>\n",
       "    </tr>\n",
       "  </thead>\n",
       "  <tbody>\n",
       "    <tr>\n",
       "      <th>0</th>\n",
       "      <td>1994</td>\n",
       "      <td>AD</td>\n",
       "      <td>NaN</td>\n",
       "      <td>Andorra</td>\n",
       "      <td>200218.30</td>\n",
       "      <td>D</td>\n",
       "    </tr>\n",
       "    <tr>\n",
       "      <th>1</th>\n",
       "      <td>1994</td>\n",
       "      <td>AE</td>\n",
       "      <td>NaN</td>\n",
       "      <td>Emirats Àrabs Units, els</td>\n",
       "      <td>31376.74</td>\n",
       "      <td>D</td>\n",
       "    </tr>\n",
       "    <tr>\n",
       "      <th>2</th>\n",
       "      <td>1994</td>\n",
       "      <td>AF</td>\n",
       "      <td>NaN</td>\n",
       "      <td>Afganistan</td>\n",
       "      <td>10.99</td>\n",
       "      <td>D</td>\n",
       "    </tr>\n",
       "    <tr>\n",
       "      <th>3</th>\n",
       "      <td>1994</td>\n",
       "      <td>AG</td>\n",
       "      <td>NaN</td>\n",
       "      <td>Antigua i Barbuda</td>\n",
       "      <td>157.69</td>\n",
       "      <td>D</td>\n",
       "    </tr>\n",
       "    <tr>\n",
       "      <th>4</th>\n",
       "      <td>1994</td>\n",
       "      <td>AI</td>\n",
       "      <td>NaN</td>\n",
       "      <td>Anguilla</td>\n",
       "      <td>340.16</td>\n",
       "      <td>D</td>\n",
       "    </tr>\n",
       "    <tr>\n",
       "      <th>...</th>\n",
       "      <td>...</td>\n",
       "      <td>...</td>\n",
       "      <td>...</td>\n",
       "      <td>...</td>\n",
       "      <td>...</td>\n",
       "      <td>...</td>\n",
       "    </tr>\n",
       "    <tr>\n",
       "      <th>5979</th>\n",
       "      <td>2020</td>\n",
       "      <td>XS</td>\n",
       "      <td>NaN</td>\n",
       "      <td>Sèrbia</td>\n",
       "      <td>103301.16</td>\n",
       "      <td>P</td>\n",
       "    </tr>\n",
       "    <tr>\n",
       "      <th>5980</th>\n",
       "      <td>2020</td>\n",
       "      <td>YE</td>\n",
       "      <td>NaN</td>\n",
       "      <td>Iemen, el</td>\n",
       "      <td>11248.92</td>\n",
       "      <td>P</td>\n",
       "    </tr>\n",
       "    <tr>\n",
       "      <th>5981</th>\n",
       "      <td>2020</td>\n",
       "      <td>ZA</td>\n",
       "      <td>NaN</td>\n",
       "      <td>Sud-àfrica</td>\n",
       "      <td>257427.50</td>\n",
       "      <td>P</td>\n",
       "    </tr>\n",
       "    <tr>\n",
       "      <th>5982</th>\n",
       "      <td>2020</td>\n",
       "      <td>ZM</td>\n",
       "      <td>NaN</td>\n",
       "      <td>Zàmbia</td>\n",
       "      <td>1598.99</td>\n",
       "      <td>P</td>\n",
       "    </tr>\n",
       "    <tr>\n",
       "      <th>5983</th>\n",
       "      <td>2020</td>\n",
       "      <td>ZW</td>\n",
       "      <td>NaN</td>\n",
       "      <td>Zimbàbue</td>\n",
       "      <td>1668.20</td>\n",
       "      <td>P</td>\n",
       "    </tr>\n",
       "  </tbody>\n",
       "</table>\n",
       "<p>5984 rows × 6 columns</p>\n",
       "</div>"
      ],
      "text/plain": [
       "       Any Codi país  Codi país ISO                      País     Import Estat\n",
       "0     1994        AD            NaN                   Andorra  200218.30     D\n",
       "1     1994        AE            NaN  Emirats Àrabs Units, els   31376.74     D\n",
       "2     1994        AF            NaN                Afganistan      10.99     D\n",
       "3     1994        AG            NaN         Antigua i Barbuda     157.69     D\n",
       "4     1994        AI            NaN                  Anguilla     340.16     D\n",
       "...    ...       ...            ...                       ...        ...   ...\n",
       "5979  2020        XS            NaN                    Sèrbia  103301.16     P\n",
       "5980  2020        YE            NaN                 Iemen, el   11248.92     P\n",
       "5981  2020        ZA            NaN                Sud-àfrica  257427.50     P\n",
       "5982  2020        ZM            NaN                    Zàmbia    1598.99     P\n",
       "5983  2020        ZW            NaN                  Zimbàbue    1668.20     P\n",
       "\n",
       "[5984 rows x 6 columns]"
      ]
     },
     "execution_count": 2,
     "metadata": {},
     "output_type": "execute_result"
    }
   ],
   "source": [
    "df = pd.read_csv('data/Exportacions_realitzades_per_Catalunya_a_nivell_mundial_SankeyDiagram.csv')\n",
    "df"
   ]
  },
  {
   "cell_type": "code",
   "execution_count": 3,
   "metadata": {},
   "outputs": [
    {
     "name": "stdout",
     "output_type": "stream",
     "text": [
      "       Any Codi país  Codi país ISO      País      Import Estat\n",
      "4622  2015        DE            NaN  Alemanya   7588443.5     D\n",
      "4638  2015        FR            NaN    França   9821419.0     D\n",
      "4860  2016        DE            NaN  Alemanya   7749042.0     D\n",
      "4875  2016        FR            NaN    França  10450995.0     D\n",
      "5095  2017        DE            NaN  Alemanya   7508991.0     D\n",
      "5112  2017        FR            NaN    França  11208210.0     D\n"
     ]
    },
    {
     "name": "stderr",
     "output_type": "stream",
     "text": [
      "/tmp/ipykernel_9767/799972696.py:2: UserWarning: Boolean Series key will be reindexed to match DataFrame index.\n",
      "  df_final_filter =df_filter[df.País.isin(['França', 'Alemanya'])]\n"
     ]
    }
   ],
   "source": [
    "df_filter = df[df.Any.isin([2015, 2016, 2017])]# or (df['País'] ==  'Alemanya')]\n",
    "df_final_filter =df_filter[df.País.isin(['França', 'Alemanya'])]\n",
    "print(df_final_filter)"
   ]
  },
  {
   "cell_type": "code",
   "execution_count": 4,
   "metadata": {},
   "outputs": [
    {
     "name": "stdout",
     "output_type": "stream",
     "text": [
      "[2015, 2015, 2016, 2016, 2017, 2017]\n",
      "[2, 2, 3, 3, 4, 4]\n",
      "['Alemanya', 'França', 'Alemanya', 'França', 'Alemanya', 'França']\n",
      "[7588443.5, 9821419.0, 7749042.0, 10450995.0, 7508991.0, 11208210.0]\n"
     ]
    }
   ],
   "source": [
    "source = list(df_final_filter['Any'])\n",
    "target = list(df_final_filter['País'])\n",
    "value = list(df_final_filter['Import'])\n",
    "new_source_cat = [2, 2, 3, 3, 4, 4]\n",
    "print(source)\n",
    "print(new_source_cat)\n",
    "print(target)\n",
    "print(value)"
   ]
  },
  {
   "cell_type": "code",
   "execution_count": 5,
   "metadata": {},
   "outputs": [],
   "source": [
    "target_num = []\n",
    "for i in range(0, len(target)):\n",
    "    if target[i] == 'França':\n",
    "        target_num.append(0)\n",
    "    if target[i] == 'Alemanya':\n",
    "        target_num.append(1)"
   ]
  },
  {
   "cell_type": "code",
   "execution_count": 6,
   "metadata": {},
   "outputs": [],
   "source": [
    "label = ['França', 'Alemanya', '2015', '2016', '2017']"
   ]
  },
  {
   "cell_type": "code",
   "execution_count": 10,
   "metadata": {},
   "outputs": [
    {
     "data": {
      "image/png": "[encoded data removed]"
     },
     "metadata": {},
     "output_type": "display_data"
    }
   ],
   "source": [
    "fig = go.Figure(data=[go.Sankey(\n",
    "    node=dict(\n",
    "        pad=15,\n",
    "        thickness=20,\n",
    "        line=dict(color=\"black\", width=0.5),\n",
    "        label=label,\n",
    "    ),\n",
    "    link=dict(\n",
    "        source=new_source_cat,\n",
    "        target=target_num,\n",
    "        value=value\n",
    "    )\n",
    ")])\n",
    "\n",
    "fig.update_layout(\n",
    "    title_text=\"Exportacions de Catalunya\",\n",
    "    font=dict(size=12, color=\"black\"),\n",
    ")\n",
    "\n",
    "fig.show(\"png\")"
   ]
  }
 ],
 "metadata": {
  "kernelspec": {
   "display_name": "base",
   "language": "python",
   "name": "python3"
  },
  "language_info": {
   "codemirror_mode": {
    "name": "ipython",
    "version": 3
   },
   "file_extension": ".py",
   "mimetype": "text/x-python",
   "name": "python",
   "nbconvert_exporter": "python",
   "pygments_lexer": "ipython3",
   "version": "3.9.12"
  }
 },
 "nbformat": 4,
 "nbformat_minor": 2
}
